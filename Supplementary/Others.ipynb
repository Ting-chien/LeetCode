{
 "cells": [
  {
   "cell_type": "markdown",
   "metadata": {},
   "source": [
    "# if __name__ == '__main__': 概念\n",
    "* 簡述：`if __name__ == '__main__':`意思為當.py檔被執行時，`if __name__ == '__main__':`下的程式碼將被運行; 當.py檔以module方式被導入其他文件時，`if __name__ == '__main__':`下的程式碼將被略過不被執行。  \n",
    "* 用途：Python程式碼與C++, Java不同，是一種直譯式腳本語言，程式碼會從第一行開始被執行，但除了直接被運行之外Python檔還可以被用作於模組匯入其他文件中。因此，當我們將Python匯入其它程式碼中但不希望某部分代碼被執行時就會利用`if __name__ == '__main__':`方式來避免。  \n",
    "  \n",
    "* Reference\n",
    "    + https://blog.csdn.net/yjk13703623757/article/details/77918633"
   ]
  },
  {
   "cell_type": "markdown",
   "metadata": {},
   "source": [
    "# Markdown語法概念\n",
    "<img src=\"pics/mou-screenshot.png\" />  \n",
    "* Reference\n",
    "    + https://ithelp.ithome.com.tw/articles/10203758?sc=iThelpR  \n",
    "    + https://2formosa.blogspot.com/2016/05/markdown-figure.html  \n",
    "    + https://github.com/shd101wyy/markdown-preview-enhanced/issues/882"
   ]
  }
 ],
 "metadata": {
  "kernelspec": {
   "display_name": "Python 3",
   "language": "python",
   "name": "python3"
  },
  "language_info": {
   "codemirror_mode": {
    "name": "ipython",
    "version": 3
   },
   "file_extension": ".py",
   "mimetype": "text/x-python",
   "name": "python",
   "nbconvert_exporter": "python",
   "pygments_lexer": "ipython3",
   "version": "3.6.4"
  }
 },
 "nbformat": 4,
 "nbformat_minor": 2
}
